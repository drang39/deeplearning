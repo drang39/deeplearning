{
 "cells": [
  {
   "cell_type": "code",
   "execution_count": null,
   "metadata": {
    "collapsed": true
   },
   "outputs": [],
   "source": [
    "import math\n",
    "import numpy as np\n",
    "import os\n",
    "import pandas as pd\n",
    "import random\n",
    "import time\n",
    "import re\n",
    "years = ['2013','2014','2015','2016','2017']\n",
    "months = ['01','02','03','04','05','06','07','08','09','10','11','12']\n",
    "days = ['01','02','03','04','05','06','07','08','09','10','11','12','13','14','15','16','17','18','19','20','21','22','23','24','25','26','27','28','29','30','31']\n",
    "\n",
    "def price_year_merge(path,filetype,years,month,days):\n",
    "    for y in years:\n",
    "    df_all = pd.DataFrame()\n",
    "    for year in years:\n",
    "        for m in months:\n",
    "            for d in days:\n",
    "                try:\n",
    "                    df = pd.read_csv(path+y+m+d+filetype)\n",
    "                    df['證券代號']  = df['證券代號'].str.replace('=','').str.replace('\"','').str.replace('\\n','')\n",
    "                    df['日期'] = y+'-'+m+'-'+d\n",
    "                    n = df.shape[0]\n",
    "                    df = df.drop(n-1)\n",
    "                    df = df.drop(n-2)\n",
    "                    df = df.drop(n-3)\n",
    "                    df = df.drop(n-4)\n",
    "                    df = df.drop(n-5)\n",
    "                    del df['Unnamed: 16']\n",
    "                    df_all.append(df)\n",
    "                except:\n",
    "                    pass\n",
    "    return df_all"
   ]
  }
 ],
 "metadata": {
  "kernelspec": {
   "display_name": "Python [conda root]",
   "language": "python",
   "name": "conda-root-py"
  },
  "language_info": {
   "codemirror_mode": {
    "name": "ipython",
    "version": 3
   },
   "file_extension": ".py",
   "mimetype": "text/x-python",
   "name": "python",
   "nbconvert_exporter": "python",
   "pygments_lexer": "ipython3",
   "version": "3.5.2"
  }
 },
 "nbformat": 4,
 "nbformat_minor": 2
}
