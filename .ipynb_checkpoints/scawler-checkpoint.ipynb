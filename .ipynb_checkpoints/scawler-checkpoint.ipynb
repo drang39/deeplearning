{
 "cells": [
  {
   "cell_type": "code",
   "execution_count": null,
   "metadata": {
    "collapsed": true
   },
   "outputs": [],
   "source": [
    "import requests\n",
    "import bs4\n",
    "import urllib.parse as up\n",
    "import re\n",
    "import time\n",
    "import csv\n",
    "import os\n",
    "import json\n",
    "import os, errno\n",
    "months = ['01','02','03','04','05','06','07','08','09','10','11','12']\n",
    "days = ['01','02','03','04','05','06','07','08','09','10','11','12','13','14','15','16','17','18','19','20','21','22','23','24','25','26','27','28','29','30','31']\n",
    "\n",
    "def raw_data(target,path,year,month,day):\n",
    "    url_d = {\"price\":\"http://www.twse.com.tw/exchangeReport/MI_INDEX?response=csv&type=ALLBUT0999&date=\",\n",
    "            \"indi\":\"http://www.twse.com.tw/fund/TWT43U?response=csv&date=\",\n",
    "           \"fund\":\"http://www.twse.com.tw/fund/TWT44U?response=csv&date=\",\n",
    "           \"fore\":\"http://www.twse.com.tw/fund/TWT38U?response=csv&date=\"\n",
    "          }\n",
    "    for year in years:\n",
    "        for month in months:\n",
    "            for day in days:\n",
    "                filename = path+year + str(month) +str(day)+'_'+target\n",
    "                f = open(filename, 'w',encoding='utf-8')\n",
    "                url =  url_d[target]+year+i+j\n",
    "                response = requests.get(url)\n",
    "                f.write(response.text)\n",
    "                f.close()\n",
    "                time.sleep(4)\n"
   ]
  }
 ],
 "metadata": {
  "anaconda-cloud": {},
  "kernelspec": {
   "display_name": "Python [conda root]",
   "language": "python",
   "name": "conda-root-py"
  },
  "language_info": {
   "codemirror_mode": {
    "name": "ipython",
    "version": 3
   },
   "file_extension": ".py",
   "mimetype": "text/x-python",
   "name": "python",
   "nbconvert_exporter": "python",
   "pygments_lexer": "ipython3",
   "version": "3.5.2"
  }
 },
 "nbformat": 4,
 "nbformat_minor": 2
}
